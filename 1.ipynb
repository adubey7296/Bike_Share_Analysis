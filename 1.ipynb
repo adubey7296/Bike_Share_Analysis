{
 "cells": [
  {
   "cell_type": "markdown",
   "metadata": {},
   "source": [
    "### Bike Share Analysis\n",
    "\n",
    "The datasets used for this script contain bike share data for the first six months of 2017. I have uploaded a copy of the datasets [here](https://drive.google.com/open?id=16FfhNDfAh0DvTIRw9r0plmWZlHPEcBa4).\n",
    "\n",
    "The data is provided by [Motivate](https://www.motivateco.com/), which is a bike share system provider for many cities in the United States. The data files for all three cities contain the same six columns:\n",
    "\n",
    "- Start Time\n",
    "- End Time\n",
    "- Trip Duration (in seconds)\n",
    "- Start Station\n",
    "- End Station\n",
    "- User Type (Subscriber or Customer)\n",
    "\n",
    "The Chicago and New York City files also contain the following two columns:\n",
    "\n",
    "- Gender\n",
    "- Birth Year"
   ]
  },
  {
   "cell_type": "markdown",
   "metadata": {},
   "source": [
    "Based on the data answer the following questions:\n",
    "    \n",
    "- What is the most popular month for start time?\n",
    "- What is the most popular day of week (Monday, Tuesday, etc.) for start time?\n",
    "- What is the most popular hour of day for start time?\n",
    "- What is the total trip duration and average trip duration?\n",
    "- What is the most popular start station and most popular end station?\n",
    "- What is the most popular trip?\n",
    "- What are the counts of each user type?\n",
    "- What are the counts of gender?\n",
    "- What are the earliest (i.e. oldest person), most recent (i.e. youngest person), and most popular birth years?"
   ]
  },
  {
   "cell_type": "code",
   "execution_count": 5,
   "metadata": {},
   "outputs": [],
   "source": [
    "import pandas as pd\n",
    "import numpy as np"
   ]
  },
  {
   "cell_type": "code",
   "execution_count": 6,
   "metadata": {},
   "outputs": [
    {
     "data": {
      "text/html": [
       "<div>\n",
       "<style scoped>\n",
       "    .dataframe tbody tr th:only-of-type {\n",
       "        vertical-align: middle;\n",
       "    }\n",
       "\n",
       "    .dataframe tbody tr th {\n",
       "        vertical-align: top;\n",
       "    }\n",
       "\n",
       "    .dataframe thead th {\n",
       "        text-align: right;\n",
       "    }\n",
       "</style>\n",
       "<table border=\"1\" class=\"dataframe\">\n",
       "  <thead>\n",
       "    <tr style=\"text-align: right;\">\n",
       "      <th></th>\n",
       "      <th>Start Time</th>\n",
       "      <th>End Time</th>\n",
       "      <th>Trip Duration</th>\n",
       "      <th>Start Station</th>\n",
       "      <th>End Station</th>\n",
       "      <th>User Type</th>\n",
       "      <th>Gender</th>\n",
       "      <th>Birth Year</th>\n",
       "    </tr>\n",
       "  </thead>\n",
       "  <tbody>\n",
       "    <tr>\n",
       "      <th>0</th>\n",
       "      <td>2017-01-01 00:00:36</td>\n",
       "      <td>2017-01-01 00:06:32</td>\n",
       "      <td>356</td>\n",
       "      <td>Canal St &amp; Taylor St</td>\n",
       "      <td>Canal St &amp; Monroe St (*)</td>\n",
       "      <td>Customer</td>\n",
       "      <td>NaN</td>\n",
       "      <td>NaN</td>\n",
       "    </tr>\n",
       "    <tr>\n",
       "      <th>1</th>\n",
       "      <td>2017-01-01 00:02:54</td>\n",
       "      <td>2017-01-01 00:08:21</td>\n",
       "      <td>327</td>\n",
       "      <td>Larrabee St &amp; Menomonee St</td>\n",
       "      <td>Sheffield Ave &amp; Kingsbury St</td>\n",
       "      <td>Subscriber</td>\n",
       "      <td>Male</td>\n",
       "      <td>1984.0</td>\n",
       "    </tr>\n",
       "    <tr>\n",
       "      <th>2</th>\n",
       "      <td>2017-01-01 00:06:06</td>\n",
       "      <td>2017-01-01 00:18:31</td>\n",
       "      <td>745</td>\n",
       "      <td>Orleans St &amp; Chestnut St (NEXT Apts)</td>\n",
       "      <td>Ashland Ave &amp; Blackhawk St</td>\n",
       "      <td>Subscriber</td>\n",
       "      <td>Male</td>\n",
       "      <td>1985.0</td>\n",
       "    </tr>\n",
       "    <tr>\n",
       "      <th>3</th>\n",
       "      <td>2017-01-01 00:07:28</td>\n",
       "      <td>2017-01-01 00:12:51</td>\n",
       "      <td>323</td>\n",
       "      <td>Franklin St &amp; Monroe St</td>\n",
       "      <td>Clinton St &amp; Tilden St</td>\n",
       "      <td>Subscriber</td>\n",
       "      <td>Male</td>\n",
       "      <td>1990.0</td>\n",
       "    </tr>\n",
       "    <tr>\n",
       "      <th>4</th>\n",
       "      <td>2017-01-01 00:07:57</td>\n",
       "      <td>2017-01-01 00:20:53</td>\n",
       "      <td>776</td>\n",
       "      <td>Broadway &amp; Barry Ave</td>\n",
       "      <td>Sedgwick St &amp; North Ave</td>\n",
       "      <td>Subscriber</td>\n",
       "      <td>Male</td>\n",
       "      <td>1990.0</td>\n",
       "    </tr>\n",
       "  </tbody>\n",
       "</table>\n",
       "</div>"
      ],
      "text/plain": [
       "            Start Time             End Time  Trip Duration  \\\n",
       "0  2017-01-01 00:00:36  2017-01-01 00:06:32            356   \n",
       "1  2017-01-01 00:02:54  2017-01-01 00:08:21            327   \n",
       "2  2017-01-01 00:06:06  2017-01-01 00:18:31            745   \n",
       "3  2017-01-01 00:07:28  2017-01-01 00:12:51            323   \n",
       "4  2017-01-01 00:07:57  2017-01-01 00:20:53            776   \n",
       "\n",
       "                          Start Station                   End Station  \\\n",
       "0                  Canal St & Taylor St      Canal St & Monroe St (*)   \n",
       "1            Larrabee St & Menomonee St  Sheffield Ave & Kingsbury St   \n",
       "2  Orleans St & Chestnut St (NEXT Apts)    Ashland Ave & Blackhawk St   \n",
       "3               Franklin St & Monroe St        Clinton St & Tilden St   \n",
       "4                  Broadway & Barry Ave       Sedgwick St & North Ave   \n",
       "\n",
       "    User Type Gender  Birth Year  \n",
       "0    Customer    NaN         NaN  \n",
       "1  Subscriber   Male      1984.0  \n",
       "2  Subscriber   Male      1985.0  \n",
       "3  Subscriber   Male      1990.0  \n",
       "4  Subscriber   Male      1990.0  "
      ]
     },
     "execution_count": 6,
     "metadata": {},
     "output_type": "execute_result"
    }
   ],
   "source": [
    "df = pd.read_csv('chicago.csv')\n",
    "df.head()"
   ]
  },
  {
   "cell_type": "markdown",
   "metadata": {},
   "source": [
    "#### * What is the most popular month for start time?"
   ]
  },
  {
   "cell_type": "code",
   "execution_count": 8,
   "metadata": {},
   "outputs": [],
   "source": [
    "#from pandas import datetimeIndex\n",
    "df['Month'] = pd.DatetimeIndex(df['Start Time']).month"
   ]
  },
  {
   "cell_type": "code",
   "execution_count": 9,
   "metadata": {},
   "outputs": [
    {
     "data": {
      "text/plain": [
       "6    505164\n",
       "5    345988\n",
       "4    268662\n",
       "2    166343\n",
       "3    153406\n",
       "1    111942\n",
       "Name: Month, dtype: int64"
      ]
     },
     "execution_count": 9,
     "metadata": {},
     "output_type": "execute_result"
    }
   ],
   "source": [
    "df['Month'].value_counts()"
   ]
  },
  {
   "cell_type": "code",
   "execution_count": 24,
   "metadata": {},
   "outputs": [
    {
     "name": "stdout",
     "output_type": "stream",
     "text": [
      "Popular month:  6\n"
     ]
    }
   ],
   "source": [
    "popular_month = df['Month'].mode()[0]\n",
    "\n",
    "print('Popular month: ', popular_month)"
   ]
  },
  {
   "cell_type": "markdown",
   "metadata": {},
   "source": [
    "#### *What is the most popular day of week (Monday, Tuesday, etc.) for start time?"
   ]
  },
  {
   "cell_type": "code",
   "execution_count": 10,
   "metadata": {},
   "outputs": [],
   "source": [
    "df['Day of Week'] = pd.DatetimeIndex(df['Start Time']).dayofweek"
   ]
  },
  {
   "cell_type": "code",
   "execution_count": 11,
   "metadata": {},
   "outputs": [
    {
     "data": {
      "text/plain": [
       "1    237586\n",
       "0    231477\n",
       "4    226840\n",
       "3    223114\n",
       "2    220217\n",
       "5    212003\n",
       "6    200268\n",
       "Name: Day of Week, dtype: int64"
      ]
     },
     "execution_count": 11,
     "metadata": {},
     "output_type": "execute_result"
    }
   ],
   "source": [
    "df['Day of Week'].value_counts()"
   ]
  },
  {
   "cell_type": "code",
   "execution_count": 50,
   "metadata": {},
   "outputs": [
    {
     "name": "stdout",
     "output_type": "stream",
     "text": [
      "Popular day:  1\n"
     ]
    }
   ],
   "source": [
    "Days_of_week = ['Monday', 'Tuesday', 'Wednesday', 'Thursday', 'Friday',\n",
    "                    'Saturday', 'Sunday']\n",
    "\n",
    "popular_day = df['Day of Week'].mode()[0]\n",
    "\n",
    "print('Popular day: ', popular_day)"
   ]
  },
  {
   "cell_type": "markdown",
   "metadata": {},
   "source": [
    "#### *What is the most popular hour of day for start time?"
   ]
  },
  {
   "cell_type": "code",
   "execution_count": 25,
   "metadata": {},
   "outputs": [],
   "source": [
    "df['Hour'] = pd.DatetimeIndex(df['Start Time']).hour"
   ]
  },
  {
   "cell_type": "code",
   "execution_count": 14,
   "metadata": {},
   "outputs": [
    {
     "data": {
      "text/plain": [
       "17    186899\n",
       "16    149037\n",
       "8     125871\n",
       "18    121463\n",
       "15    104199\n",
       "7      94757\n",
       "13     91340\n",
       "14     90836\n",
       "12     89624\n",
       "19     80710\n",
       "11     78310\n",
       "9      69752\n",
       "10     61121\n",
       "20     52918\n",
       "6      42750\n",
       "21     36693\n",
       "22     25330\n",
       "23     15688\n",
       "5      12457\n",
       "0       9023\n",
       "1       5136\n",
       "2       3117\n",
       "4       2455\n",
       "3       2019\n",
       "Name: Hour, dtype: int64"
      ]
     },
     "execution_count": 14,
     "metadata": {},
     "output_type": "execute_result"
    }
   ],
   "source": [
    "df['Hour'].value_counts()"
   ]
  },
  {
   "cell_type": "code",
   "execution_count": 18,
   "metadata": {},
   "outputs": [
    {
     "name": "stdout",
     "output_type": "stream",
     "text": [
      "17\n"
     ]
    }
   ],
   "source": [
    "popular_hour = df['Hour'].mode()[0]\n",
    "\n",
    "print(popular_hour)"
   ]
  },
  {
   "cell_type": "markdown",
   "metadata": {},
   "source": [
    "#### *What is the total trip duration and average trip duration?"
   ]
  },
  {
   "cell_type": "code",
   "execution_count": 63,
   "metadata": {},
   "outputs": [
    {
     "name": "stdout",
     "output_type": "stream",
     "text": [
      "Trip Duration:  332\n"
     ]
    }
   ],
   "source": [
    "Trip_Duration = df['Trip Duration'].mode()[0]\n",
    "\n",
    "print('Trip Duration: ', Trip_Duration)"
   ]
  },
  {
   "cell_type": "code",
   "execution_count": 60,
   "metadata": {},
   "outputs": [
    {
     "name": "stdout",
     "output_type": "stream",
     "text": [
      "Total Time Travel: 1458069892\n",
      "Mean Time Travel: 939.7777590146342\n"
     ]
    }
   ],
   "source": [
    "total_travel_time = df['Trip Duration'].sum()\n",
    "print('Total Time Travel:', total_travel_time)\n",
    "# display mean travel time\n",
    "mean_travel_time = df['Trip Duration'].mean()\n",
    "print('Mean Time Travel:', mean_travel_time)"
   ]
  },
  {
   "cell_type": "markdown",
   "metadata": {},
   "source": [
    "#### *What is the most popular start station and most popular end station?"
   ]
  },
  {
   "cell_type": "code",
   "execution_count": 53,
   "metadata": {},
   "outputs": [
    {
     "data": {
      "text/plain": [
       "0    Streeter Dr & Grand Ave\n",
       "dtype: object"
      ]
     },
     "execution_count": 53,
     "metadata": {},
     "output_type": "execute_result"
    }
   ],
   "source": [
    "df['Start Station'].mode()"
   ]
  },
  {
   "cell_type": "code",
   "execution_count": 54,
   "metadata": {},
   "outputs": [
    {
     "data": {
      "text/plain": [
       "0         Canal St & Taylor StCanal St & Monroe St (*)\n",
       "1    Larrabee St & Menomonee StSheffield Ave & King...\n",
       "2    Orleans St & Chestnut St (NEXT Apts)Ashland Av...\n",
       "3        Franklin St & Monroe StClinton St & Tilden St\n",
       "4          Broadway & Barry AveSedgwick St & North Ave\n",
       "Name: Trip, dtype: object"
      ]
     },
     "execution_count": 54,
     "metadata": {},
     "output_type": "execute_result"
    }
   ],
   "source": [
    "df['Trip'] = df['Start Station']+ df['End Station']\n",
    "df['Trip'].head()"
   ]
  },
  {
   "cell_type": "code",
   "execution_count": 55,
   "metadata": {},
   "outputs": [
    {
     "data": {
      "text/plain": [
       "0    Lake Shore Dr & Monroe StStreeter Dr & Grand Ave\n",
       "dtype: object"
      ]
     },
     "execution_count": 55,
     "metadata": {},
     "output_type": "execute_result"
    }
   ],
   "source": [
    "df['Trip'].mode()"
   ]
  },
  {
   "cell_type": "markdown",
   "metadata": {},
   "source": [
    "#### *What is the most popular trip?"
   ]
  },
  {
   "cell_type": "code",
   "execution_count": 57,
   "metadata": {},
   "outputs": [
    {
     "name": "stdout",
     "output_type": "stream",
     "text": [
      "Popular Trip:  Lake Shore Dr & Monroe StStreeter Dr & Grand Ave\n"
     ]
    }
   ],
   "source": [
    "popular_journey = df['Trip'].mode().to_string(index = False)\n",
    "\n",
    "print('Popular Trip: ', popular_journey)"
   ]
  },
  {
   "cell_type": "markdown",
   "metadata": {},
   "source": [
    "#### *What are the counts of each user type?"
   ]
  },
  {
   "cell_type": "code",
   "execution_count": 56,
   "metadata": {},
   "outputs": [
    {
     "data": {
      "text/plain": [
       "Subscriber    1234339\n",
       "Customer       317162\n",
       "Dependent           4\n",
       "Name: User Type, dtype: int64"
      ]
     },
     "execution_count": 56,
     "metadata": {},
     "output_type": "execute_result"
    }
   ],
   "source": [
    "df['User Type'].value_counts()"
   ]
  },
  {
   "cell_type": "markdown",
   "metadata": {},
   "source": [
    "#### *What are the counts of gender?"
   ]
  },
  {
   "cell_type": "code",
   "execution_count": 19,
   "metadata": {},
   "outputs": [
    {
     "data": {
      "text/plain": [
       "Male      935854\n",
       "Female    298784\n",
       "Name: Gender, dtype: int64"
      ]
     },
     "execution_count": 19,
     "metadata": {},
     "output_type": "execute_result"
    }
   ],
   "source": [
    "df['Gender'].value_counts()"
   ]
  },
  {
   "cell_type": "markdown",
   "metadata": {},
   "source": [
    "#### *What are the earliest (i.e. oldest person), most recent (i.e. youngest person), and most popular birth years?"
   ]
  },
  {
   "cell_type": "code",
   "execution_count": 58,
   "metadata": {},
   "outputs": [
    {
     "name": "stdout",
     "output_type": "stream",
     "text": [
      "The oldest birth year in the dataset 1899.\n",
      "The most recent birth year is 2016.\n",
      "The most common birth year is 1989.\n"
     ]
    }
   ],
   "source": [
    "earliest = int(df['Birth Year'].min())\n",
    "recent = int(df['Birth Year'].max())\n",
    "mode = int(df['Birth Year'].mode())\n",
    "print('The oldest birth year in the dataset {}.\\nThe most recent birth year is {}.'\n",
    "          '\\nThe most common birth year is {}.'.format(earliest, recent, mode))"
   ]
  },
  {
   "cell_type": "markdown",
   "metadata": {},
   "source": [
    "## TO DO: \n",
    "#### *Convert seconds to hours, minutes, seconds.\n",
    "#### *Do not report hours if hours is 0.\n",
    "if h == 0: average_trip = else: average_trip "
   ]
  },
  {
   "cell_type": "code",
   "execution_count": 68,
   "metadata": {},
   "outputs": [
    {
     "name": "stdout",
     "output_type": "stream",
     "text": [
      "Start Time                                    2017-01-04 08:52:05\n",
      "End Time                                      2017-01-04 08:56:33\n",
      "Trip Duration                                                 268\n",
      "Start Station                             Avers Ave & Belmont Ave\n",
      "End Station                             Kimball Ave & Belmont Ave\n",
      "User Type                                              Subscriber\n",
      "Gender                                                     Female\n",
      "Birth Year                                                   1987\n",
      "Month                                                           1\n",
      "Day of Week                                                     2\n",
      "Hour                                                            8\n",
      "Trip             Avers Ave & Belmont AveKimball Ave & Belmont Ave\n",
      "Name: 9220, dtype: object\n"
     ]
    }
   ],
   "source": [
    "print (df.iloc[9220])"
   ]
  }
 ],
 "metadata": {
  "kernelspec": {
   "display_name": "Python 3",
   "language": "python",
   "name": "python3"
  },
  "language_info": {
   "codemirror_mode": {
    "name": "ipython",
    "version": 3
   },
   "file_extension": ".py",
   "mimetype": "text/x-python",
   "name": "python",
   "nbconvert_exporter": "python",
   "pygments_lexer": "ipython3",
   "version": "3.7.1"
  }
 },
 "nbformat": 4,
 "nbformat_minor": 2
}
